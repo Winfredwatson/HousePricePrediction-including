{
  "nbformat": 4,
  "nbformat_minor": 0,
  "metadata": {
    "colab": {
      "provenance": []
    },
    "kernelspec": {
      "name": "python3",
      "display_name": "Python 3"
    },
    "language_info": {
      "name": "python"
    }
  },
  "cells": [
    {
      "cell_type": "code",
      "execution_count": null,
      "metadata": {
        "colab": {
          "base_uri": "https://localhost:8080/"
        },
        "id": "57tDh4kySYJs",
        "outputId": "3354fa4d-4760-4275-9c6d-678843d9561c"
      },
      "outputs": [
        {
          "output_type": "stream",
          "name": "stdout",
          "text": [
            "[7.67434112e+09]\n"
          ]
        }
      ],
      "source": [
        "import numpy as np\n",
        "import pandas as pd\n",
        "import joblib\n",
        "\n",
        "model = joblib.load('finalized_pipe_model.joblib')\n",
        "# Address,Area,Parking,Elevator,Warehouse\n",
        "Columns = [ \"Area\", \"Room\", \"Parking\", \"Warehouse\", 'Elevator',\"Address\"]\n",
        "Address = \"Darakeh\"\n",
        "Area = 100000\n",
        "Room = 3\n",
        "Parking = \"Yes\"\n",
        "Elevator = \"No\"\n",
        "Warehouse = \"Yes\"\n",
        "\n",
        "Elevator = int(Elevator == \"Yes\")\n",
        "Parking = int(Parking == \"Yes\")\n",
        "Warehouse = int(Warehouse == \"Yes\")\n",
        "\n",
        "final_vec = [Area, Room, Parking, Warehouse, Elevator, Address]\n",
        "#row = np.array(final_vec)\n",
        "X = pd.DataFrame([final_vec], columns = Columns)\n",
        "prediction = model.predict(X)\n",
        "print(prediction)\n"
      ]
    },
    {
      "cell_type": "code",
      "source": [
        "import numpy as np\n",
        "import pandas as pd\n",
        "import joblib\n",
        "\n",
        "model = joblib.load('finalized_pipe_model.joblib')\n",
        "\n",
        "# Address,Area,Parking,Elevator,Warehouse\n",
        "Columns = [ \"Area\", \"Room\", \"Parking\", \"Warehouse\", 'Elevator',\"Address\"]\n",
        "Address = \"Darakeh\"\n",
        "Area = 100000\n",
        "Room = 3\n",
        "Parking = \"Yes\"\n",
        "Elevator = \"No\"\n",
        "Warehouse = \"Yes\"\n",
        "\n",
        "Elevator = int(Elevator == \"Yes\")\n",
        "Parking = int(Parking == \"Yes\")\n",
        "Warehouse = int(Warehouse == \"Yes\")\n",
        "\n",
        "\n",
        "final_vec = [Area, Room, Parking, Warehouse, Elevator, Address]\n",
        "#output = {i: v for i, v in zip(Columns, final_vec)}\n",
        "#output = {'Area':[Area], 'Room':[Room], 'Parking':[Parking], 'Warehouse':[Warehouse], 'Elevator':[Elevator], 'Address':Address}\n",
        "#output = {'Area': 100000, 'Room': 3, 'Parking': 1, 'Warehouse': 1, 'Elevator': 0, 'Address': ['Darakeh']}\n",
        "#X = pd.DataFrame({'Area': 100000, 'Room': 3, 'Parking': 1, 'Warehouse': 1, 'Elevator': 0, 'Address':Address},index = [0,1,2])\n",
        "output = {'Area':[Area], 'Room':[Room], 'Parking':[Parking], 'Warehouse':[Warehouse], 'Elevator':[Elevator]}\n",
        "#output['Address'] = pd.Series(Address)\n",
        "output['Address'] = Address\n",
        "\n",
        "#X = pd.DataFrame(output)\n",
        "X = pd.DataFrame(output,index = [0])\n",
        "#X.index = [0]\n",
        "#Y = X.loc[0]\n",
        "predictionX = model.predict(X)\n",
        "\n",
        "#predictionX = Address[0]\n",
        "#row = np.array(final_vec)\n",
        "\n",
        "print(output)\n",
        "print()\n",
        "print(X)\n",
        "print()\n",
        "print(predictionX)\n",
        "\n"
      ],
      "metadata": {
        "colab": {
          "base_uri": "https://localhost:8080/"
        },
        "id": "8cQE4FuiDmpg",
        "outputId": "e5ae83fd-dba5-468d-bff5-e1e0a64a32f1"
      },
      "execution_count": 12,
      "outputs": [
        {
          "output_type": "stream",
          "name": "stdout",
          "text": [
            "{'Area': [100000], 'Room': [3], 'Parking': [1], 'Warehouse': [1], 'Elevator': [0], 'Address': 'Darakeh'}\n",
            "\n",
            "     Area  Room  Parking  Warehouse  Elevator  Address\n",
            "0  100000     3        1          1         0  Darakeh\n",
            "\n",
            "[7.67434112e+09]\n"
          ]
        }
      ]
    }
  ]
}